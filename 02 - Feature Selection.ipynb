{
 "cells": [
  {
   "cell_type": "markdown",
   "metadata": {},
   "source": [
    "Agora vamos selecionar as colunas que serão utilizadas e preparar o dataframe para o XGBoost"
   ]
  },
  {
   "cell_type": "code",
   "execution_count": 2,
   "metadata": {
    "collapsed": true
   },
   "outputs": [],
   "source": [
    "import pandas as pd\n",
    "pd.set_option('display.max_rows', 5)"
   ]
  },
  {
   "cell_type": "code",
   "execution_count": 3,
   "metadata": {
    "collapsed": true
   },
   "outputs": [],
   "source": [
    "df = pd.read_csv('./output/big_df_enriquecido.csv')"
   ]
  },
  {
   "cell_type": "code",
   "execution_count": 4,
   "metadata": {},
   "outputs": [
    {
     "data": {
      "text/html": [
       "<div>\n",
       "<table border=\"1\" class=\"dataframe\">\n",
       "  <thead>\n",
       "    <tr style=\"text-align: right;\">\n",
       "      <th></th>\n",
       "      <th>Unnamed: 0</th>\n",
       "      <th>unixtime</th>\n",
       "      <th>latitude</th>\n",
       "      <th>longitude</th>\n",
       "      <th>speed</th>\n",
       "      <th>vehicle</th>\n",
       "      <th>date</th>\n",
       "      <th>year</th>\n",
       "      <th>month</th>\n",
       "      <th>day</th>\n",
       "      <th>hour</th>\n",
       "    </tr>\n",
       "  </thead>\n",
       "  <tbody>\n",
       "    <tr>\n",
       "      <th>0</th>\n",
       "      <td>0</td>\n",
       "      <td>1202497200490</td>\n",
       "      <td>37.632166</td>\n",
       "      <td>-122.084713</td>\n",
       "      <td>39.410</td>\n",
       "      <td>veh174.csv</td>\n",
       "      <td>2008-02-08 17:00:00.490</td>\n",
       "      <td>2008</td>\n",
       "      <td>2</td>\n",
       "      <td>8</td>\n",
       "      <td>17</td>\n",
       "    </tr>\n",
       "    <tr>\n",
       "      <th>1</th>\n",
       "      <td>1</td>\n",
       "      <td>1202497203491</td>\n",
       "      <td>37.632607</td>\n",
       "      <td>-122.085040</td>\n",
       "      <td>40.216</td>\n",
       "      <td>veh174.csv</td>\n",
       "      <td>2008-02-08 17:00:03.491</td>\n",
       "      <td>2008</td>\n",
       "      <td>2</td>\n",
       "      <td>8</td>\n",
       "      <td>17</td>\n",
       "    </tr>\n",
       "    <tr>\n",
       "      <th>...</th>\n",
       "      <td>...</td>\n",
       "      <td>...</td>\n",
       "      <td>...</td>\n",
       "      <td>...</td>\n",
       "      <td>...</td>\n",
       "      <td>...</td>\n",
       "      <td>...</td>\n",
       "      <td>...</td>\n",
       "      <td>...</td>\n",
       "      <td>...</td>\n",
       "      <td>...</td>\n",
       "    </tr>\n",
       "    <tr>\n",
       "      <th>527566</th>\n",
       "      <td>527566</td>\n",
       "      <td>1202525995102</td>\n",
       "      <td>37.599879</td>\n",
       "      <td>-122.063277</td>\n",
       "      <td>0.017</td>\n",
       "      <td>veh136.csv</td>\n",
       "      <td>2008-02-09 00:59:55.102</td>\n",
       "      <td>2008</td>\n",
       "      <td>2</td>\n",
       "      <td>9</td>\n",
       "      <td>0</td>\n",
       "    </tr>\n",
       "    <tr>\n",
       "      <th>527567</th>\n",
       "      <td>527567</td>\n",
       "      <td>1202525999101</td>\n",
       "      <td>37.599879</td>\n",
       "      <td>-122.063277</td>\n",
       "      <td>0.015</td>\n",
       "      <td>veh136.csv</td>\n",
       "      <td>2008-02-09 00:59:59.101</td>\n",
       "      <td>2008</td>\n",
       "      <td>2</td>\n",
       "      <td>9</td>\n",
       "      <td>0</td>\n",
       "    </tr>\n",
       "  </tbody>\n",
       "</table>\n",
       "<p>527568 rows × 11 columns</p>\n",
       "</div>"
      ],
      "text/plain": [
       "        Unnamed: 0       unixtime   latitude   longitude   speed     vehicle  \\\n",
       "0                0  1202497200490  37.632166 -122.084713  39.410  veh174.csv   \n",
       "1                1  1202497203491  37.632607 -122.085040  40.216  veh174.csv   \n",
       "...            ...            ...        ...         ...     ...         ...   \n",
       "527566      527566  1202525995102  37.599879 -122.063277   0.017  veh136.csv   \n",
       "527567      527567  1202525999101  37.599879 -122.063277   0.015  veh136.csv   \n",
       "\n",
       "                           date  year  month  day  hour  \n",
       "0       2008-02-08 17:00:00.490  2008      2    8    17  \n",
       "1       2008-02-08 17:00:03.491  2008      2    8    17  \n",
       "...                         ...   ...    ...  ...   ...  \n",
       "527566  2008-02-09 00:59:55.102  2008      2    9     0  \n",
       "527567  2008-02-09 00:59:59.101  2008      2    9     0  \n",
       "\n",
       "[527568 rows x 11 columns]"
      ]
     },
     "execution_count": 4,
     "metadata": {},
     "output_type": "execute_result"
    }
   ],
   "source": [
    "df"
   ]
  },
  {
   "cell_type": "markdown",
   "metadata": {},
   "source": [
    "Algumas colunas não são relevantes para nosso modelo e podem ainda atrapalhar como a unixtime, por exemplo, já que é um inteiro, mas o tempo ser maior não tem correlação nenhuma com a velocidade, que é nosso target. Como medida de tempo, ficaremos apenas com dia e hora. Inicialmente não entrarei na precisão do minuto, mas farei testes com minutos em um segundo momento. "
   ]
  },
  {
   "cell_type": "code",
   "execution_count": 5,
   "metadata": {
    "collapsed": true
   },
   "outputs": [],
   "source": [
    "df.drop(['Unnamed: 0', 'unixtime','vehicle', 'date','year','month'], axis=1, inplace=True)"
   ]
  },
  {
   "cell_type": "code",
   "execution_count": 6,
   "metadata": {},
   "outputs": [
    {
     "data": {
      "text/plain": [
       "Index([u'latitude', u'longitude', u'speed', u'day', u'hour'], dtype='object')"
      ]
     },
     "execution_count": 6,
     "metadata": {},
     "output_type": "execute_result"
    }
   ],
   "source": [
    "df.columns"
   ]
  },
  {
   "cell_type": "markdown",
   "metadata": {},
   "source": [
    "As colunas 'day' e 'hour' são categóricas e não devem ser tratadas como inteiros. Por este motivo, usarei o método get_dummies para deixá-las no modelo one-hot"
   ]
  },
  {
   "cell_type": "code",
   "execution_count": 7,
   "metadata": {
    "collapsed": true
   },
   "outputs": [],
   "source": [
    "dummie = pd.get_dummies(df, prefix=['day','hour'], columns=['day','hour'])"
   ]
  },
  {
   "cell_type": "code",
   "execution_count": 16,
   "metadata": {
    "collapsed": true
   },
   "outputs": [],
   "source": [
    "dummie.to_csv('./output/dummie.csv')"
   ]
  },
  {
   "cell_type": "markdown",
   "metadata": {},
   "source": [
    "Agora chegou a hora de dividir nossa base de dados em treino e teste para podermos treinar e testar o modelo"
   ]
  },
  {
   "cell_type": "code",
   "execution_count": 12,
   "metadata": {
    "collapsed": true
   },
   "outputs": [],
   "source": [
    "from sklearn import cross_validation as cv\n",
    "train, test = cv.train_test_split(dummie, train_size = 0.8)"
   ]
  },
  {
   "cell_type": "code",
   "execution_count": 17,
   "metadata": {
    "collapsed": true
   },
   "outputs": [],
   "source": [
    "train.to_csv('./output/train.csv')\n",
    "test.to_csv('./output/test.csv')"
   ]
  }
 ],
 "metadata": {
  "anaconda-cloud": {},
  "kernelspec": {
   "display_name": "Python 2",
   "language": "python",
   "name": "python2"
  },
  "language_info": {
   "codemirror_mode": {
    "name": "ipython",
    "version": 2
   },
   "file_extension": ".py",
   "mimetype": "text/x-python",
   "name": "python",
   "nbconvert_exporter": "python",
   "pygments_lexer": "ipython2",
   "version": "2.7.12"
  }
 },
 "nbformat": 4,
 "nbformat_minor": 1
}
