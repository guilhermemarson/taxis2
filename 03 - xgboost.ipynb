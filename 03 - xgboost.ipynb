{
 "cells": [
  {
   "cell_type": "markdown",
   "metadata": {},
   "source": [
    "#### Implementação do Modelo XGBoost"
   ]
  },
  {
   "cell_type": "markdown",
   "metadata": {},
   "source": [
    "Vamos iniciar carregando as libs que serão utilizadas"
   ]
  },
  {
   "cell_type": "code",
   "execution_count": 1,
   "metadata": {},
   "outputs": [
    {
     "name": "stderr",
     "output_type": "stream",
     "text": [
      "/home/guilherme/xgboost/local/lib/python2.7/site-packages/sklearn/cross_validation.py:44: DeprecationWarning: This module was deprecated in version 0.18 in favor of the model_selection module into which all the refactored classes and functions are moved. Also note that the interface of the new CV iterators are different from that of this module. This module will be removed in 0.20.\n",
      "  \"This module will be removed in 0.20.\", DeprecationWarning)\n"
     ]
    }
   ],
   "source": [
    "import pandas as pd\n",
    "pd.set_option('display.max_rows', 5)\n",
    "import xgboost as xgb\n",
    "import numpy as np\n",
    "from xgboost.sklearn import XGBRegressor\n",
    "from sklearn import cross_validation, metrics  \n",
    "from sklearn.grid_search import GridSearchCV \n",
    "import matplotlib.pylab as plt\n",
    "%matplotlib inline\n",
    "from matplotlib.pylab import rcParams\n",
    "rcParams['figure.figsize'] = 12, 4\n",
    "#target do modelo\n",
    "target = 'speed'"
   ]
  },
  {
   "cell_type": "markdown",
   "metadata": {},
   "source": [
    "Agora vamos carregar as bases de treino e teste"
   ]
  },
  {
   "cell_type": "code",
   "execution_count": 3,
   "metadata": {
    "collapsed": true
   },
   "outputs": [],
   "source": [
    "train = pd.read_csv('./output/train.csv')\n",
    "train.drop(['Unnamed: 0'], 1, inplace=True)\n",
    "test = pd.read_csv('./output/test.csv')\n",
    "test.drop(['Unnamed: 0'], 1, inplace=True)\n",
    "y_test=test['speed']\n",
    "test.drop(['speed'], 1, inplace=True)"
   ]
  },
  {
   "cell_type": "markdown",
   "metadata": {},
   "source": [
    "Vamos montar um vetor com o nome das colunas que serão utilizadas em nosso modelo"
   ]
  },
  {
   "cell_type": "code",
   "execution_count": 5,
   "metadata": {
    "collapsed": true
   },
   "outputs": [],
   "source": [
    "predictors = [x for x in train.columns if x not in [target]]"
   ]
  },
  {
   "cell_type": "markdown",
   "metadata": {},
   "source": [
    "A função abaixo será utilizada para treinar o modelo, analisar sua eficiência e plotar gráfico da importância de cada variável. \n",
    "O modelo foi derivado do site: [Complete Guide to Parameter Tuning in XGBoost](https://www.analyticsvidhya.com/blog/2016/03/complete-guide-parameter-tuning-xgboost-with-codes-python/)"
   ]
  },
  {
   "cell_type": "code",
   "execution_count": 6,
   "metadata": {
    "collapsed": true
   },
   "outputs": [],
   "source": [
    "def modelfit(alg, dtrain, predictors,useTrainCV=True, cv_folds=5, early_stopping_rounds=50):\n",
    "    \n",
    "    if useTrainCV:\n",
    "        xgb_param = alg.get_xgb_params()\n",
    "        xgtrain = xgb.DMatrix(dtrain[predictors].values, label=dtrain[target].values)\n",
    "        cvresult = xgb.cv(xgb_param, xgtrain, num_boost_round=alg.get_params()['n_estimators'], nfold=cv_folds,\n",
    "            metrics='rmse', early_stopping_rounds=early_stopping_rounds)\n",
    "        alg.set_params(n_estimators=cvresult.shape[0])\n",
    "    \n",
    "    #Fit the algorithm on the data\n",
    "    alg.fit(dtrain[predictors], dtrain[target],eval_metric='rmse')       \n",
    "        \n",
    "    #Predict training set:\n",
    "    dtrain_predictions = alg.predict(dtrain[predictors])\n",
    "    \n",
    "        \n",
    "    #Print model report:\n",
    "    print \"\\nModel Report\"    \n",
    "    print \"R2 Score : %.4g\" % metrics.r2_score(dtrain[target].values, dtrain_predictions)\n",
    "    print \"n_estimators: \" + str(cvresult.shape[0])\n",
    "   \n",
    "                        \n",
    "    feat_imp = pd.Series(alg.booster().get_fscore()).sort_values(ascending=False)\n",
    "    feat_imp.plot(kind='bar', title='Feature Importances')\n",
    "    plt.ylabel('Feature Importance Score')\n",
    "    "
   ]
  },
  {
   "cell_type": "code",
   "execution_count": 51,
   "metadata": {
    "scrolled": true
   },
   "outputs": [
    {
     "name": "stdout",
     "output_type": "stream",
     "text": [
      "\n",
      "Model Report\n",
      "R2 Score : 0.8517\n",
      "n_estimators: 400\n"
     ]
    },
    {
     "data": {
      "image/png": "[encoded data removed]",
      "text/plain": [
       "<matplotlib.figure.Figure at 0x7fe1a6c53b10>"
      ]
     },
     "metadata": {},
     "output_type": "display_data"
    }
   ],
   "source": [
    "predictors = [x for x in train.columns if x not in [target]]\n",
    "xgb1 = XGBRegressor(\n",
    " max_depth=5,\n",
    " learning_rate =1,\n",
    " n_estimators=400, \n",
    " silent=False,\n",
    " min_child_weight=1,\n",
    " gamma=0,\n",
    " subsample=0.8,\n",
    " colsample_bytree=0.8,\n",
    " objective= 'reg:linear',\n",
    " nthread=4,\n",
    " scale_pos_weight=1,\n",
    " seed=27)\n",
    "modelfit(xgb1, train, predictors)"
   ]
  },
  {
   "cell_type": "markdown",
   "metadata": {},
   "source": [
    "#### Vamos tentar com 1100 árvores"
   ]
  },
  {
   "cell_type": "code",
   "execution_count": 52,
   "metadata": {},
   "outputs": [
    {
     "name": "stdout",
     "output_type": "stream",
     "text": [
      "\n",
      "Model Report\n",
      "R2 Score : 0.8791\n",
      "n_estimators: 1100\n"
     ]
    },
    {
     "data": {
      "image/png": "[encoded data removed]",
      "text/plain": [
       "<matplotlib.figure.Figure at 0x7fe1a608f150>"
      ]
     },
     "metadata": {},
     "output_type": "display_data"
    }
   ],
   "source": [
    "predictors = [x for x in train.columns if x not in [target]]\n",
    "xgb1 = XGBRegressor(\n",
    " max_depth=5,\n",
    " learning_rate =1,\n",
    " n_estimators=1100, \n",
    " silent=False,\n",
    " min_child_weight=1,\n",
    " gamma=0,\n",
    " subsample=0.8,\n",
    " colsample_bytree=0.8,\n",
    " objective= 'reg:linear',\n",
    " nthread=4,\n",
    " scale_pos_weight=1,\n",
    " seed=27)\n",
    "modelfit(xgb1, train, predictors)"
   ]
  },
  {
   "cell_type": "markdown",
   "metadata": {},
   "source": [
    "## Tunning de parâmetros"
   ]
  },
  {
   "cell_type": "code",
   "execution_count": 12,
   "metadata": {},
   "outputs": [
    {
     "data": {
      "text/plain": [
       "([mean: 0.82738, std: 0.00238, params: {'n_estimators': 300, 'learning_rate': 0.5},\n",
       "  mean: 0.83823, std: 0.00208, params: {'n_estimators': 500, 'learning_rate': 0.5},\n",
       "  mean: 0.84324, std: 0.00192, params: {'n_estimators': 700, 'learning_rate': 0.5},\n",
       "  mean: 0.84647, std: 0.00189, params: {'n_estimators': 900, 'learning_rate': 0.5},\n",
       "  mean: 0.84829, std: 0.00193, params: {'n_estimators': 1100, 'learning_rate': 0.5},\n",
       "  mean: 0.82929, std: 0.00193, params: {'n_estimators': 300, 'learning_rate': 0.7},\n",
       "  mean: 0.83748, std: 0.00183, params: {'n_estimators': 500, 'learning_rate': 0.7},\n",
       "  mean: 0.84119, std: 0.00166, params: {'n_estimators': 700, 'learning_rate': 0.7},\n",
       "  mean: 0.84369, std: 0.00148, params: {'n_estimators': 900, 'learning_rate': 0.7},\n",
       "  mean: 0.84479, std: 0.00148, params: {'n_estimators': 1100, 'learning_rate': 0.7},\n",
       "  mean: 0.82568, std: 0.00241, params: {'n_estimators': 300, 'learning_rate': 0.9},\n",
       "  mean: 0.83286, std: 0.00189, params: {'n_estimators': 500, 'learning_rate': 0.9},\n",
       "  mean: 0.83564, std: 0.00207, params: {'n_estimators': 700, 'learning_rate': 0.9},\n",
       "  mean: 0.83725, std: 0.00179, params: {'n_estimators': 900, 'learning_rate': 0.9},\n",
       "  mean: 0.83813, std: 0.00157, params: {'n_estimators': 1100, 'learning_rate': 0.9},\n",
       "  mean: 0.81972, std: 0.00182, params: {'n_estimators': 300, 'learning_rate': 1.1},\n",
       "  mean: 0.82616, std: 0.00182, params: {'n_estimators': 500, 'learning_rate': 1.1},\n",
       "  mean: 0.82859, std: 0.00192, params: {'n_estimators': 700, 'learning_rate': 1.1},\n",
       "  mean: 0.82980, std: 0.00161, params: {'n_estimators': 900, 'learning_rate': 1.1},\n",
       "  mean: 0.82978, std: 0.00159, params: {'n_estimators': 1100, 'learning_rate': 1.1},\n",
       "  mean: 0.80944, std: 0.00137, params: {'n_estimators': 300, 'learning_rate': 1.3},\n",
       "  mean: 0.81587, std: 0.00080, params: {'n_estimators': 500, 'learning_rate': 1.3},\n",
       "  mean: 0.81767, std: 0.00104, params: {'n_estimators': 700, 'learning_rate': 1.3},\n",
       "  mean: 0.81798, std: 0.00107, params: {'n_estimators': 900, 'learning_rate': 1.3},\n",
       "  mean: 0.81753, std: 0.00108, params: {'n_estimators': 1100, 'learning_rate': 1.3},\n",
       "  mean: 0.79435, std: 0.00333, params: {'n_estimators': 300, 'learning_rate': 1.5},\n",
       "  mean: 0.79963, std: 0.00374, params: {'n_estimators': 500, 'learning_rate': 1.5},\n",
       "  mean: 0.80115, std: 0.00316, params: {'n_estimators': 700, 'learning_rate': 1.5},\n",
       "  mean: 0.80129, std: 0.00277, params: {'n_estimators': 900, 'learning_rate': 1.5},\n",
       "  mean: 0.80052, std: 0.00269, params: {'n_estimators': 1100, 'learning_rate': 1.5}],\n",
       " {'learning_rate': 0.5, 'n_estimators': 1100},\n",
       " 0.8482913859111264)"
      ]
     },
     "execution_count": 12,
     "metadata": {},
     "output_type": "execute_result"
    }
   ],
   "source": [
    "predictors = [x for x in train.columns if x not in [target]]\n",
    "param_test1 = {\n",
    " 'n_estimators':range(300,1101,200),\n",
    " 'learning_rate':[i/10.0 for i in range(5,16, 2)]    \n",
    "}\n",
    "gsearch1 = GridSearchCV(estimator = XGBRegressor( learning_rate =0.1, n_estimators=80, max_depth=5,\n",
    " min_child_weight=1, gamma=0, subsample=0.8, colsample_bytree=0.8,\n",
    " nthread=4, scale_pos_weight=1, seed=27), \n",
    " param_grid = param_test1, scoring='r2',n_jobs=4,iid=False, cv=5)\n",
    "gsearch1.fit(train[predictors],train[target])\n",
    "gsearch1.grid_scores_, gsearch1.best_params_, gsearch1.best_score_"
   ]
  },
  {
   "cell_type": "markdown",
   "metadata": {},
   "source": [
    "### n_estimators:1100"
   ]
  },
  {
   "cell_type": "markdown",
   "metadata": {},
   "source": [
    "Como o melhor learning rate foi o menor da lista, vou tentar com valores menores que ele para tentar conseguir mais ganho"
   ]
  },
  {
   "cell_type": "code",
   "execution_count": 13,
   "metadata": {},
   "outputs": [
    {
     "data": {
      "text/plain": [
       "([mean: 0.81918, std: 0.00244, params: {'learning_rate': 0.1},\n",
       "  mean: 0.84609, std: 0.00125, params: {'learning_rate': 0.3},\n",
       "  mean: 0.84829, std: 0.00193, params: {'learning_rate': 0.5}],\n",
       " {'learning_rate': 0.5},\n",
       " 0.8482913859111264)"
      ]
     },
     "execution_count": 13,
     "metadata": {},
     "output_type": "execute_result"
    }
   ],
   "source": [
    "predictors = [x for x in train.columns if x not in [target]]\n",
    "param_test1 = {\n",
    " 'learning_rate':[i/10.0 for i in range(1,6, 2)]    \n",
    "}\n",
    "gsearch1 = GridSearchCV(estimator = XGBRegressor( learning_rate =0.1, n_estimators=1100, max_depth=5,\n",
    " min_child_weight=1, gamma=0, subsample=0.8, colsample_bytree=0.8,\n",
    " nthread=4, scale_pos_weight=1, seed=27), \n",
    " param_grid = param_test1, scoring='r2',n_jobs=4,iid=False, cv=5)\n",
    "gsearch1.fit(train[predictors],train[target])\n",
    "gsearch1.grid_scores_, gsearch1.best_params_, gsearch1.best_score_"
   ]
  },
  {
   "cell_type": "markdown",
   "metadata": {},
   "source": [
    "O melhor learning_rate continou sendo o 0.5"
   ]
  },
  {
   "cell_type": "markdown",
   "metadata": {},
   "source": [
    "### learning_rate:0.5"
   ]
  },
  {
   "cell_type": "code",
   "execution_count": 10,
   "metadata": {
    "scrolled": true
   },
   "outputs": [
    {
     "data": {
      "text/plain": [
       "([mean: 0.84829, std: 0.00193, params: {'max_depth': 5, 'min_child_weight': 1},\n",
       "  mean: 0.84839, std: 0.00192, params: {'max_depth': 5, 'min_child_weight': 3},\n",
       "  mean: 0.84830, std: 0.00216, params: {'max_depth': 5, 'min_child_weight': 5},\n",
       "  mean: 0.85407, std: 0.00183, params: {'max_depth': 6, 'min_child_weight': 1},\n",
       "  mean: 0.85398, std: 0.00154, params: {'max_depth': 6, 'min_child_weight': 3},\n",
       "  mean: 0.85378, std: 0.00158, params: {'max_depth': 6, 'min_child_weight': 5}],\n",
       " {'max_depth': 6, 'min_child_weight': 1},\n",
       " 0.8540707714670711)"
      ]
     },
     "execution_count": 10,
     "metadata": {},
     "output_type": "execute_result"
    }
   ],
   "source": [
    "param_test1 = {\n",
    " 'max_depth':range(5,7,1),\n",
    " 'min_child_weight':range(1,6,2)\n",
    "}\n",
    "gsearch1 = GridSearchCV(estimator = XGBRegressor( learning_rate =0.5, n_estimators=1100, max_depth=5,\n",
    " min_child_weight=1, gamma=0, subsample=0.8, colsample_bytree=0.8,\n",
    " nthread=4, scale_pos_weight=1, seed=27), \n",
    " param_grid = param_test1, scoring='r2',n_jobs=4,iid=False, cv=5)\n",
    "gsearch1.fit(train[predictors],train[target])\n",
    "gsearch1.grid_scores_, gsearch1.best_params_, gsearch1.best_score_ "
   ]
  },
  {
   "cell_type": "markdown",
   "metadata": {},
   "source": [
    "### min_child_weight:1"
   ]
  },
  {
   "cell_type": "code",
   "execution_count": 11,
   "metadata": {},
   "outputs": [
    {
     "data": {
      "text/plain": [
       "([mean: 0.85407, std: 0.00183, params: {'max_depth': 6},\n",
       "  mean: 0.85519, std: 0.00132, params: {'max_depth': 7},\n",
       "  mean: 0.85538, std: 0.00134, params: {'max_depth': 8},\n",
       "  mean: 0.85319, std: 0.00114, params: {'max_depth': 9}],\n",
       " {'max_depth': 8},\n",
       " 0.8553827492851346)"
      ]
     },
     "execution_count": 11,
     "metadata": {},
     "output_type": "execute_result"
    }
   ],
   "source": [
    "predictors = [x for x in train.columns if x not in [target]]\n",
    "param_test1 = {\n",
    " 'max_depth':range(6,10,1)\n",
    "}\n",
    "gsearch1 = GridSearchCV(estimator = XGBRegressor( learning_rate =0.5, n_estimators=1100, max_depth=5,\n",
    " min_child_weight=1, gamma=0, subsample=0.8, colsample_bytree=0.8,\n",
    " nthread=4, scale_pos_weight=1, seed=27), \n",
    " param_grid = param_test1, scoring='r2',n_jobs=4,iid=False, cv=5)\n",
    "gsearch1.fit(train[predictors],train[target])\n",
    "gsearch1.grid_scores_, gsearch1.best_params_, gsearch1.best_score_"
   ]
  },
  {
   "cell_type": "markdown",
   "metadata": {},
   "source": [
    "### max_depth: 8"
   ]
  },
  {
   "cell_type": "code",
   "execution_count": 7,
   "metadata": {},
   "outputs": [
    {
     "data": {
      "text/plain": [
       "([mean: 0.85538, std: 0.00134, params: {'gamma': 0.0},\n",
       "  mean: 0.85469, std: 0.00124, params: {'gamma': 0.1},\n",
       "  mean: 0.85471, std: 0.00122, params: {'gamma': 0.2},\n",
       "  mean: 0.85493, std: 0.00121, params: {'gamma': 0.3},\n",
       "  mean: 0.85515, std: 0.00119, params: {'gamma': 0.4}],\n",
       " {'gamma': 0.0},\n",
       " 0.8553827492851346)"
      ]
     },
     "execution_count": 7,
     "metadata": {},
     "output_type": "execute_result"
    }
   ],
   "source": [
    "param_test3 = {\n",
    " 'gamma':[i/10.0 for i in range(0,5)]\n",
    "}\n",
    "gsearch1 = GridSearchCV(estimator = XGBRegressor( learning_rate =0.5, n_estimators=1100, max_depth=8,\n",
    " min_child_weight=1, gamma=0, subsample=0.8, colsample_bytree=0.8,\n",
    " nthread=4, scale_pos_weight=1, seed=27), \n",
    " param_grid = param_test3, scoring='r2',n_jobs=4,iid=False, cv=5)\n",
    "gsearch1.fit(train[predictors],train[target])\n",
    "gsearch1.grid_scores_, gsearch1.best_params_, gsearch1.best_score_"
   ]
  },
  {
   "cell_type": "markdown",
   "metadata": {},
   "source": [
    "### gamma: 0.0"
   ]
  },
  {
   "cell_type": "code",
   "execution_count": 8,
   "metadata": {},
   "outputs": [
    {
     "data": {
      "text/plain": [
       "([mean: 0.84418, std: 0.00156, params: {'subsample': 0.6, 'colsample_bytree': 0.6},\n",
       "  mean: 0.84709, std: 0.00226, params: {'subsample': 0.7, 'colsample_bytree': 0.6},\n",
       "  mean: 0.84981, std: 0.00133, params: {'subsample': 0.8, 'colsample_bytree': 0.6},\n",
       "  mean: 0.85193, std: 0.00227, params: {'subsample': 0.9, 'colsample_bytree': 0.6},\n",
       "  mean: 0.84691, std: 0.00130, params: {'subsample': 0.6, 'colsample_bytree': 0.7},\n",
       "  mean: 0.85019, std: 0.00181, params: {'subsample': 0.7, 'colsample_bytree': 0.7},\n",
       "  mean: 0.85298, std: 0.00150, params: {'subsample': 0.8, 'colsample_bytree': 0.7},\n",
       "  mean: 0.85485, std: 0.00135, params: {'subsample': 0.9, 'colsample_bytree': 0.7},\n",
       "  mean: 0.84841, std: 0.00156, params: {'subsample': 0.6, 'colsample_bytree': 0.8},\n",
       "  mean: 0.85175, std: 0.00115, params: {'subsample': 0.7, 'colsample_bytree': 0.8},\n",
       "  mean: 0.85538, std: 0.00134, params: {'subsample': 0.8, 'colsample_bytree': 0.8},\n",
       "  mean: 0.85766, std: 0.00133, params: {'subsample': 0.9, 'colsample_bytree': 0.8},\n",
       "  mean: 0.84923, std: 0.00113, params: {'subsample': 0.6, 'colsample_bytree': 0.9},\n",
       "  mean: 0.85325, std: 0.00135, params: {'subsample': 0.7, 'colsample_bytree': 0.9},\n",
       "  mean: 0.85635, std: 0.00139, params: {'subsample': 0.8, 'colsample_bytree': 0.9},\n",
       "  mean: 0.85913, std: 0.00096, params: {'subsample': 0.9, 'colsample_bytree': 0.9}],\n",
       " {'colsample_bytree': 0.9, 'subsample': 0.9},\n",
       " 0.8591330048948527)"
      ]
     },
     "execution_count": 8,
     "metadata": {},
     "output_type": "execute_result"
    }
   ],
   "source": [
    "param_test4 = {\n",
    " 'subsample':[i/10.0 for i in range(6,10)],\n",
    " 'colsample_bytree':[i/10.0 for i in range(6,10)]\n",
    "}\n",
    "gsearch1 = GridSearchCV(estimator = XGBRegressor( learning_rate =0.5, n_estimators=1100, max_depth=8,\n",
    " min_child_weight=1, gamma=0, subsample=0.8, colsample_bytree=0.8,\n",
    " nthread=4, scale_pos_weight=1, seed=27), \n",
    " param_grid = param_test4, scoring='r2',n_jobs=4,iid=False, cv=5)\n",
    "gsearch1.fit(train[predictors],train[target])\n",
    "gsearch1.grid_scores_, gsearch1.best_params_, gsearch1.best_score_"
   ]
  },
  {
   "cell_type": "markdown",
   "metadata": {},
   "source": [
    "### subsample: 0.9"
   ]
  },
  {
   "cell_type": "markdown",
   "metadata": {},
   "source": [
    "### colsample_bytree: 0.9"
   ]
  },
  {
   "cell_type": "markdown",
   "metadata": {},
   "source": [
    "## Vamos verificar como está o score com os parâmetros que testamos até agora"
   ]
  },
  {
   "cell_type": "code",
   "execution_count": 10,
   "metadata": {},
   "outputs": [
    {
     "name": "stdout",
     "output_type": "stream",
     "text": [
      "\n",
      "Model Report\n",
      "R2 Score : 0.9119\n"
     ]
    },
    {
     "data": {
      "image/png": "[encoded data removed]",
      "text/plain": [
       "<matplotlib.figure.Figure at 0x7f4535fc4b10>"
      ]
     },
     "metadata": {},
     "output_type": "display_data"
    }
   ],
   "source": [
    "#Choose all predictors except target & IDcols\n",
    "predictors = [x for x in train.columns if x not in [target]]\n",
    "xgb1 = XGBRegressor(\n",
    " max_depth=8,\n",
    " learning_rate =0.5,\n",
    " n_estimators=1100, \n",
    " silent=False,\n",
    " min_child_weight=1,\n",
    " gamma=0,\n",
    " subsample=0.9,\n",
    " colsample_bytree=0.9,\n",
    " objective= 'reg:linear',\n",
    " nthread=4,\n",
    " scale_pos_weight=1,\n",
    " seed=27)\n",
    "modelfit(xgb1, train, predictors)"
   ]
  },
  {
   "cell_type": "code",
   "execution_count": 8,
   "metadata": {},
   "outputs": [
    {
     "data": {
      "text/plain": [
       "([mean: 0.85913, std: 0.00101, params: {'reg_alpha': 1e-05},\n",
       "  mean: 0.85904, std: 0.00103, params: {'reg_alpha': 0.01},\n",
       "  mean: 0.85912, std: 0.00119, params: {'reg_alpha': 0.1},\n",
       "  mean: 0.85966, std: 0.00126, params: {'reg_alpha': 1},\n",
       "  mean: 0.86775, std: 0.00144, params: {'reg_alpha': 100}],\n",
       " {'reg_alpha': 100},\n",
       " 0.8677509191634283)"
      ]
     },
     "execution_count": 8,
     "metadata": {},
     "output_type": "execute_result"
    }
   ],
   "source": [
    "param_test5 = {\n",
    " 'reg_alpha':[1e-5, 1e-2, 0.1, 1, 100]\n",
    "}\n",
    "gsearch1 = GridSearchCV(estimator = XGBRegressor( learning_rate =0.5, n_estimators=1100, max_depth=8,\n",
    " min_child_weight=1, gamma=0, subsample=0.9, colsample_bytree=0.9,\n",
    " nthread=4, scale_pos_weight=1, seed=27), \n",
    " param_grid = param_test5, scoring='r2',n_jobs=4,iid=False, cv=5)\n",
    "gsearch1.fit(train[predictors],train[target])\n",
    "gsearch1.grid_scores_, gsearch1.best_params_, gsearch1.best_score_"
   ]
  },
  {
   "cell_type": "markdown",
   "metadata": {},
   "source": [
    "### reg_alpha: 100"
   ]
  },
  {
   "cell_type": "markdown",
   "metadata": {},
   "source": [
    "## Agora vamos treinar o modelo com os parâmetros encontrados e verificar o score final contra a base de testes"
   ]
  },
  {
   "cell_type": "code",
   "execution_count": 23,
   "metadata": {
    "collapsed": true
   },
   "outputs": [],
   "source": [
    "xgb1 = XGBRegressor(\n",
    " max_depth=8,\n",
    " learning_rate =0.5,\n",
    " n_estimators=1100, \n",
    " silent=False,\n",
    " min_child_weight=1,\n",
    " gamma=0,\n",
    " subsample=0.9,\n",
    " colsample_bytree=0.9,\n",
    " objective= 'reg:linear',\n",
    " reg_alpha=100,\n",
    " nthread=4,\n",
    " scale_pos_weight=1,\n",
    " seed=27)"
   ]
  },
  {
   "cell_type": "code",
   "execution_count": 24,
   "metadata": {},
   "outputs": [
    {
     "data": {
      "text/plain": [
       "XGBRegressor(base_score=0.5, colsample_bylevel=1, colsample_bytree=0.9,\n",
       "       gamma=0, learning_rate=0.5, max_delta_step=0, max_depth=8,\n",
       "       min_child_weight=1, missing=None, n_estimators=1100, nthread=4,\n",
       "       objective='reg:linear', reg_alpha=100, reg_lambda=1,\n",
       "       scale_pos_weight=1, seed=27, silent=False, subsample=0.9)"
      ]
     },
     "execution_count": 24,
     "metadata": {},
     "output_type": "execute_result"
    }
   ],
   "source": [
    "xgb1.fit(train[predictors], train[target],eval_metric='rmse')"
   ]
  },
  {
   "cell_type": "code",
   "execution_count": 25,
   "metadata": {
    "collapsed": true
   },
   "outputs": [],
   "source": [
    "test_predictions = xgb1.predict(test[predictors])"
   ]
  },
  {
   "cell_type": "code",
   "execution_count": 26,
   "metadata": {},
   "outputs": [
    {
     "name": "stdout",
     "output_type": "stream",
     "text": [
      "R2 Score : 0.8713\n"
     ]
    }
   ],
   "source": [
    "print \"R2 Score : %.4g\" % metrics.r2_score(y_test, test_predictions)"
   ]
  },
  {
   "cell_type": "markdown",
   "metadata": {},
   "source": [
    "## O score foi ótimo, mas vamos verificar se a distribuição do erro está próxima de uma distribuição normal"
   ]
  },
  {
   "cell_type": "code",
   "execution_count": 30,
   "metadata": {},
   "outputs": [
    {
     "data": {
      "image/png": "[encoded data removed]",
      "text/plain": [
       "<matplotlib.figure.Figure at 0x7f1808853750>"
      ]
     },
     "metadata": {},
     "output_type": "display_data"
    }
   ],
   "source": [
    "plt.hist(y_test - test_predictions, bins=30)\n",
    "plt.xlabel('Erro')\n",
    "plt.ylabel('Distribuicao')\n",
    "plt.title('Distribuicao do Erro')\n",
    "plt.show()\n"
   ]
  },
  {
   "cell_type": "markdown",
   "metadata": {},
   "source": [
    "#### A distribuição ficou bem próxima de uma distribuição normal e com concentração bem próxima a 0"
   ]
  }
 ],
 "metadata": {
  "kernelspec": {
   "display_name": "Python 2",
   "language": "python",
   "name": "python2"
  },
  "language_info": {
   "codemirror_mode": {
    "name": "ipython",
    "version": 2
   },
   "file_extension": ".py",
   "mimetype": "text/x-python",
   "name": "python",
   "nbconvert_exporter": "python",
   "pygments_lexer": "ipython2",
   "version": "2.7.12"
  }
 },
 "nbformat": 4,
 "nbformat_minor": 2
}
