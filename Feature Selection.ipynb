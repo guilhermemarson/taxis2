{
 "cells": [
  {
   "cell_type": "markdown",
   "metadata": {},
   "source": [
    "Agora vamos selecionar as colunas que serão utilizadas e preparar o dataframe para o XGBoost"
   ]
  },
  {
   "cell_type": "code",
   "execution_count": 1,
   "metadata": {
    "collapsed": true
   },
   "outputs": [],
   "source": [
    "import pandas as pd\n",
    "pd.set_option('display.max_rows', 5)"
   ]
  },
  {
   "cell_type": "code",
   "execution_count": 2,
   "metadata": {
    "collapsed": true
   },
   "outputs": [],
   "source": [
    "df = pd.read_csv('./output/big_df_enriquecido.csv')"
   ]
  },
  {
   "cell_type": "code",
   "execution_count": 3,
   "metadata": {
    "collapsed": false
   },
   "outputs": [
    {
     "data": {
      "text/html": [
       "<div>\n",
       "<table border=\"1\" class=\"dataframe\">\n",
       "  <thead>\n",
       "    <tr style=\"text-align: right;\">\n",
       "      <th></th>\n",
       "      <th>Unnamed: 0</th>\n",
       "      <th>unixtime</th>\n",
       "      <th>latitude</th>\n",
       "      <th>longitude</th>\n",
       "      <th>speed</th>\n",
       "      <th>vehicle</th>\n",
       "      <th>date</th>\n",
       "      <th>year</th>\n",
       "      <th>month</th>\n",
       "      <th>day</th>\n",
       "      <th>hour</th>\n",
       "    </tr>\n",
       "  </thead>\n",
       "  <tbody>\n",
       "    <tr>\n",
       "      <th>0</th>\n",
       "      <td>0</td>\n",
       "      <td>1202497202837</td>\n",
       "      <td>37.600433</td>\n",
       "      <td>-122.063757</td>\n",
       "      <td>0.009</td>\n",
       "      <td>veh101.csv</td>\n",
       "      <td>2008-02-08 17:00:02.837</td>\n",
       "      <td>2008</td>\n",
       "      <td>2</td>\n",
       "      <td>8</td>\n",
       "      <td>17</td>\n",
       "    </tr>\n",
       "    <tr>\n",
       "      <th>1</th>\n",
       "      <td>1</td>\n",
       "      <td>1202497206836</td>\n",
       "      <td>37.600433</td>\n",
       "      <td>-122.063757</td>\n",
       "      <td>0.010</td>\n",
       "      <td>veh101.csv</td>\n",
       "      <td>2008-02-08 17:00:06.836</td>\n",
       "      <td>2008</td>\n",
       "      <td>2</td>\n",
       "      <td>8</td>\n",
       "      <td>17</td>\n",
       "    </tr>\n",
       "    <tr>\n",
       "      <th>...</th>\n",
       "      <td>...</td>\n",
       "      <td>...</td>\n",
       "      <td>...</td>\n",
       "      <td>...</td>\n",
       "      <td>...</td>\n",
       "      <td>...</td>\n",
       "      <td>...</td>\n",
       "      <td>...</td>\n",
       "      <td>...</td>\n",
       "      <td>...</td>\n",
       "      <td>...</td>\n",
       "    </tr>\n",
       "    <tr>\n",
       "      <th>527566</th>\n",
       "      <td>527566</td>\n",
       "      <td>1202525994359</td>\n",
       "      <td>37.600176</td>\n",
       "      <td>-122.063436</td>\n",
       "      <td>1.019</td>\n",
       "      <td>veh177.csv</td>\n",
       "      <td>2008-02-09 00:59:54.359</td>\n",
       "      <td>2008</td>\n",
       "      <td>2</td>\n",
       "      <td>9</td>\n",
       "      <td>0</td>\n",
       "    </tr>\n",
       "    <tr>\n",
       "      <th>527567</th>\n",
       "      <td>527567</td>\n",
       "      <td>1202525997360</td>\n",
       "      <td>37.600177</td>\n",
       "      <td>-122.063438</td>\n",
       "      <td>0.634</td>\n",
       "      <td>veh177.csv</td>\n",
       "      <td>2008-02-09 00:59:57.360</td>\n",
       "      <td>2008</td>\n",
       "      <td>2</td>\n",
       "      <td>9</td>\n",
       "      <td>0</td>\n",
       "    </tr>\n",
       "  </tbody>\n",
       "</table>\n",
       "<p>527568 rows × 11 columns</p>\n",
       "</div>"
      ],
      "text/plain": [
       "        Unnamed: 0       unixtime   latitude   longitude  speed     vehicle  \\\n",
       "0                0  1202497202837  37.600433 -122.063757  0.009  veh101.csv   \n",
       "1                1  1202497206836  37.600433 -122.063757  0.010  veh101.csv   \n",
       "...            ...            ...        ...         ...    ...         ...   \n",
       "527566      527566  1202525994359  37.600176 -122.063436  1.019  veh177.csv   \n",
       "527567      527567  1202525997360  37.600177 -122.063438  0.634  veh177.csv   \n",
       "\n",
       "                           date  year  month  day  hour  \n",
       "0       2008-02-08 17:00:02.837  2008      2    8    17  \n",
       "1       2008-02-08 17:00:06.836  2008      2    8    17  \n",
       "...                         ...   ...    ...  ...   ...  \n",
       "527566  2008-02-09 00:59:54.359  2008      2    9     0  \n",
       "527567  2008-02-09 00:59:57.360  2008      2    9     0  \n",
       "\n",
       "[527568 rows x 11 columns]"
      ]
     },
     "execution_count": 3,
     "metadata": {},
     "output_type": "execute_result"
    }
   ],
   "source": [
    "df"
   ]
  },
  {
   "cell_type": "markdown",
   "metadata": {},
   "source": [
    "Algumas colunas não são relevantes para nosso modelo e podem ainda atrapalhar como a unixtime, por exemplo, já que é um inteiro, mas o tempo ser maior não tem correlação nenhuma com a velocidade, que é nosso target. Como medida de tempo, ficaremos apenas com dia e hora. Inicialmente não entrarei na precisão do minuto, mas farei testes com minutos em um segundo momento. "
   ]
  },
  {
   "cell_type": "code",
   "execution_count": 7,
   "metadata": {
    "collapsed": false
   },
   "outputs": [],
   "source": [
    "df.drop(['Unnamed: 0', 'unixtime','vehicle', 'date','year','month'], axis=1, inplace=True)"
   ]
  },
  {
   "cell_type": "code",
   "execution_count": 8,
   "metadata": {
    "collapsed": false
   },
   "outputs": [
    {
     "data": {
      "text/plain": [
       "Index(['latitude', 'longitude', 'speed', 'day', 'hour'], dtype='object')"
      ]
     },
     "execution_count": 8,
     "metadata": {},
     "output_type": "execute_result"
    }
   ],
   "source": [
    "df.columns"
   ]
  },
  {
   "cell_type": "markdown",
   "metadata": {},
   "source": [
    "As colunas 'day' e 'hour' são categóricas e não devem ser tratadas como inteiros. Por este motivo, usarei o método get_dummies para deixá-las no modelo one-hot"
   ]
  },
  {
   "cell_type": "code",
   "execution_count": 10,
   "metadata": {
    "collapsed": false
   },
   "outputs": [],
   "source": [
    "dummie = pd.get_dummies(df, prefix=['day','hour'], columns=['day','hour'])"
   ]
  },
  {
   "cell_type": "code",
   "execution_count": 1,
   "metadata": {
    "collapsed": false
   },
   "outputs": [
    {
     "ename": "ImportError",
     "evalue": "No module named 'xgboost'",
     "output_type": "error",
     "traceback": [
      "\u001b[0;31m---------------------------------------------------------------------------\u001b[0m",
      "\u001b[0;31mImportError\u001b[0m                               Traceback (most recent call last)",
      "\u001b[0;32m<ipython-input-1-745aa3a2d734>\u001b[0m in \u001b[0;36m<module>\u001b[0;34m()\u001b[0m\n\u001b[0;32m----> 1\u001b[0;31m \u001b[1;32mimport\u001b[0m \u001b[0mxgboost\u001b[0m \u001b[1;32mas\u001b[0m \u001b[0mxgb\u001b[0m\u001b[1;33m\u001b[0m\u001b[0m\n\u001b[0m",
      "\u001b[0;31mImportError\u001b[0m: No module named 'xgboost'"
     ]
    }
   ],
   "source": [
    "import xgboost as xgb"
   ]
  }
 ],
 "metadata": {
  "anaconda-cloud": {},
  "kernelspec": {
   "display_name": "Python [conda root]",
   "language": "python",
   "name": "conda-root-py"
  },
  "language_info": {
   "codemirror_mode": {
    "name": "ipython",
    "version": 3
   },
   "file_extension": ".py",
   "mimetype": "text/x-python",
   "name": "python",
   "nbconvert_exporter": "python",
   "pygments_lexer": "ipython3",
   "version": "3.5.2"
  }
 },
 "nbformat": 4,
 "nbformat_minor": 1
}
