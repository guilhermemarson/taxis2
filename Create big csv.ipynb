{
 "cells": [
  {
   "cell_type": "markdown",
   "metadata": {},
   "source": [
    "##### Vou começar o modelo preparando os dados.\n",
    "O primeiro passo será a criação de um dataframe com os dados de todos os arquivos .csv do desafio"
   ]
  },
  {
   "cell_type": "code",
   "execution_count": 57,
   "metadata": {
    "collapsed": true
   },
   "outputs": [],
   "source": [
    "import pandas as pd\n",
    "pd.set_option('display.max_rows', 5)"
   ]
  },
  {
   "cell_type": "code",
   "execution_count": 3,
   "metadata": {
    "collapsed": true
   },
   "outputs": [],
   "source": [
    "import os\n",
    "path = './src/'\n",
    "arquivos = os.listdir(path)"
   ]
  },
  {
   "cell_type": "code",
   "execution_count": 14,
   "metadata": {
    "collapsed": false
   },
   "outputs": [],
   "source": [
    "big_df = pd.DataFrame()\n",
    "for f in arquivos:\n",
    "    df = pd.read_csv(path+f)\n",
    "    df['vehicle'] = f\n",
    "    big_df = big_df.append(df, ignore_index=True)"
   ]
  },
  {
   "cell_type": "markdown",
   "metadata": {},
   "source": [
    "Para evitar a necessidade de juntar os arquivos novamente, vou salvar o .csv com os dados de todos os veículos"
   ]
  },
  {
   "cell_type": "code",
   "execution_count": 17,
   "metadata": {
    "collapsed": false
   },
   "outputs": [],
   "source": [
    "big_df.to_csv('./output/big_df.csv')"
   ]
  },
  {
   "cell_type": "markdown",
   "metadata": {},
   "source": [
    "Nos próximos passos vou quebrar o timestamp em variáveis que julgo serem relevantes para o modelo"
   ]
  },
  {
   "cell_type": "code",
   "execution_count": 45,
   "metadata": {
    "collapsed": false
   },
   "outputs": [],
   "source": [
    "big_df['date'] = big_df['unixtime'].apply(lambda x: datetime.fromtimestamp(x/1000.0))\n",
    "big_df['year'] = big_df['date'].apply(lambda x: x.year)\n",
    "big_df['month'] = big_df['date'].apply(lambda x: x.month)\n",
    "big_df['day'] = big_df['date'].apply(lambda x: x.day)\n",
    "big_df['hour'] = big_df['date'].apply(lambda x: x.hour)"
   ]
  },
  {
   "cell_type": "markdown",
   "metadata": {},
   "source": [
    "Mesmo não tendo terminado o enriquecimento, farei uma rápida verificação nessas novas variáveis"
   ]
  },
  {
   "cell_type": "code",
   "execution_count": 59,
   "metadata": {
    "collapsed": false,
    "scrolled": false
   },
   "outputs": [
    {
     "data": {
      "text/html": [
       "<div>\n",
       "<table border=\"1\" class=\"dataframe\">\n",
       "  <thead>\n",
       "    <tr style=\"text-align: right;\">\n",
       "      <th></th>\n",
       "      <th>unixtime</th>\n",
       "      <th>latitude</th>\n",
       "      <th>longitude</th>\n",
       "      <th>speed</th>\n",
       "      <th>vehicle</th>\n",
       "      <th>date</th>\n",
       "      <th>year</th>\n",
       "      <th>month</th>\n",
       "      <th>day</th>\n",
       "      <th>hour</th>\n",
       "    </tr>\n",
       "  </thead>\n",
       "  <tbody>\n",
       "    <tr>\n",
       "      <th>0</th>\n",
       "      <td>1202497202837</td>\n",
       "      <td>37.600433</td>\n",
       "      <td>-122.063757</td>\n",
       "      <td>0.009</td>\n",
       "      <td>veh101.csv</td>\n",
       "      <td>2008-02-08 17:00:02.837</td>\n",
       "      <td>2008</td>\n",
       "      <td>2</td>\n",
       "      <td>8</td>\n",
       "      <td>17</td>\n",
       "    </tr>\n",
       "    <tr>\n",
       "      <th>1</th>\n",
       "      <td>1202497206836</td>\n",
       "      <td>37.600433</td>\n",
       "      <td>-122.063757</td>\n",
       "      <td>0.010</td>\n",
       "      <td>veh101.csv</td>\n",
       "      <td>2008-02-08 17:00:06.836</td>\n",
       "      <td>2008</td>\n",
       "      <td>2</td>\n",
       "      <td>8</td>\n",
       "      <td>17</td>\n",
       "    </tr>\n",
       "    <tr>\n",
       "      <th>...</th>\n",
       "      <td>...</td>\n",
       "      <td>...</td>\n",
       "      <td>...</td>\n",
       "      <td>...</td>\n",
       "      <td>...</td>\n",
       "      <td>...</td>\n",
       "      <td>...</td>\n",
       "      <td>...</td>\n",
       "      <td>...</td>\n",
       "      <td>...</td>\n",
       "    </tr>\n",
       "    <tr>\n",
       "      <th>527566</th>\n",
       "      <td>1202525994359</td>\n",
       "      <td>37.600176</td>\n",
       "      <td>-122.063436</td>\n",
       "      <td>1.019</td>\n",
       "      <td>veh177.csv</td>\n",
       "      <td>2008-02-09 00:59:54.359</td>\n",
       "      <td>2008</td>\n",
       "      <td>2</td>\n",
       "      <td>9</td>\n",
       "      <td>0</td>\n",
       "    </tr>\n",
       "    <tr>\n",
       "      <th>527567</th>\n",
       "      <td>1202525997360</td>\n",
       "      <td>37.600177</td>\n",
       "      <td>-122.063438</td>\n",
       "      <td>0.634</td>\n",
       "      <td>veh177.csv</td>\n",
       "      <td>2008-02-09 00:59:57.360</td>\n",
       "      <td>2008</td>\n",
       "      <td>2</td>\n",
       "      <td>9</td>\n",
       "      <td>0</td>\n",
       "    </tr>\n",
       "  </tbody>\n",
       "</table>\n",
       "<p>527568 rows × 10 columns</p>\n",
       "</div>"
      ],
      "text/plain": [
       "             unixtime   latitude   longitude  speed     vehicle  \\\n",
       "0       1202497202837  37.600433 -122.063757  0.009  veh101.csv   \n",
       "1       1202497206836  37.600433 -122.063757  0.010  veh101.csv   \n",
       "...               ...        ...         ...    ...         ...   \n",
       "527566  1202525994359  37.600176 -122.063436  1.019  veh177.csv   \n",
       "527567  1202525997360  37.600177 -122.063438  0.634  veh177.csv   \n",
       "\n",
       "                          date  year  month  day  hour  \n",
       "0      2008-02-08 17:00:02.837  2008      2    8    17  \n",
       "1      2008-02-08 17:00:06.836  2008      2    8    17  \n",
       "...                        ...   ...    ...  ...   ...  \n",
       "527566 2008-02-09 00:59:54.359  2008      2    9     0  \n",
       "527567 2008-02-09 00:59:57.360  2008      2    9     0  \n",
       "\n",
       "[527568 rows x 10 columns]"
      ]
     },
     "execution_count": 59,
     "metadata": {},
     "output_type": "execute_result"
    }
   ],
   "source": [
    "big_df"
   ]
  },
  {
   "cell_type": "code",
   "execution_count": 61,
   "metadata": {
    "collapsed": false
   },
   "outputs": [
    {
     "data": {
      "text/plain": [
       "array([2008], dtype=int64)"
      ]
     },
     "execution_count": 61,
     "metadata": {},
     "output_type": "execute_result"
    }
   ],
   "source": [
    "big_df['year'].unique()"
   ]
  },
  {
   "cell_type": "markdown",
   "metadata": {},
   "source": [
    "Como podemos ver acima, todas as informações são do ano de 2008, então provavelmente esta variável será eliminada mais pra frente"
   ]
  },
  {
   "cell_type": "code",
   "execution_count": 62,
   "metadata": {
    "collapsed": false
   },
   "outputs": [
    {
     "data": {
      "text/plain": [
       "array([2], dtype=int64)"
      ]
     },
     "execution_count": 62,
     "metadata": {},
     "output_type": "execute_result"
    }
   ],
   "source": [
    "big_df['month'].unique()"
   ]
  },
  {
   "cell_type": "markdown",
   "metadata": {},
   "source": [
    "o mês também é sempre o mesmo, então provavelmente será eliminado do modelo"
   ]
  },
  {
   "cell_type": "code",
   "execution_count": 63,
   "metadata": {
    "collapsed": false
   },
   "outputs": [
    {
     "data": {
      "text/plain": [
       "array([8, 9], dtype=int64)"
      ]
     },
     "execution_count": 63,
     "metadata": {},
     "output_type": "execute_result"
    }
   ],
   "source": [
    "big_df['day'].unique()"
   ]
  },
  {
   "cell_type": "code",
   "execution_count": 64,
   "metadata": {
    "collapsed": false
   },
   "outputs": [
    {
     "data": {
      "text/plain": [
       "array([17, 18, 19, 20, 21, 22, 23,  0], dtype=int64)"
      ]
     },
     "execution_count": 64,
     "metadata": {},
     "output_type": "execute_result"
    }
   ],
   "source": [
    "big_df['hour'].unique()"
   ]
  },
  {
   "cell_type": "markdown",
   "metadata": {},
   "source": [
    "Outra informação curiosa é que só temos informações das 17h às 00h "
   ]
  },
  {
   "cell_type": "markdown",
   "metadata": {},
   "source": [
    "Salvando dataframe já enriquecido"
   ]
  },
  {
   "cell_type": "code",
   "execution_count": 73,
   "metadata": {
    "collapsed": false
   },
   "outputs": [],
   "source": [
    "big_df.to_csv('./output/big_df_enriquecido.csv')"
   ]
  }
 ],
 "metadata": {
  "anaconda-cloud": {},
  "kernelspec": {
   "display_name": "Python [conda root]",
   "language": "python",
   "name": "conda-root-py"
  },
  "language_info": {
   "codemirror_mode": {
    "name": "ipython",
    "version": 3
   },
   "file_extension": ".py",
   "mimetype": "text/x-python",
   "name": "python",
   "nbconvert_exporter": "python",
   "pygments_lexer": "ipython3",
   "version": "3.5.2"
  }
 },
 "nbformat": 4,
 "nbformat_minor": 1
}
